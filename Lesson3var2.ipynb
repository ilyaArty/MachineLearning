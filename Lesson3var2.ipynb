{
 "cells": [
  {
   "cell_type": "code",
   "execution_count": 1,
   "metadata": {
    "collapsed": false
   },
   "outputs": [
    {
     "name": "stdout",
     "output_type": "stream",
     "text": [
      "True\n",
      "The slowest run took 85.44 times longer than the fastest. This could mean that an intermediate result is being cached.\n",
      "10000000 loops, best of 3: 16.9 ns per loop\n"
     ]
    }
   ],
   "source": [
    "import numpy as np\n",
    "X=np.array([1,2,2,4,6,5,6,6,7,8,4,4]);\n",
    "Y=np.array([4,2,1,2,4,4,5,7,6,8,6,6]);\n",
    "X=np.sort(X);\n",
    "Y=np.sort(Y);\n",
    "if X.all()==Y.all():\n",
    "    print(\"True\");\n",
    "else:        \n",
    "    print(\"False\");   \n",
    "%timeit pass"
   ]
  },
  {
   "cell_type": "code",
   "execution_count": null,
   "metadata": {
    "collapsed": true
   },
   "outputs": [],
   "source": []
  }
 ],
 "metadata": {
  "anaconda-cloud": {},
  "kernelspec": {
   "display_name": "Python [default]",
   "language": "python",
   "name": "python3"
  },
  "language_info": {
   "codemirror_mode": {
    "name": "ipython",
    "version": 3
   },
   "file_extension": ".py",
   "mimetype": "text/x-python",
   "name": "python",
   "nbconvert_exporter": "python",
   "pygments_lexer": "ipython3",
   "version": "3.5.2"
  }
 },
 "nbformat": 4,
 "nbformat_minor": 1
}
