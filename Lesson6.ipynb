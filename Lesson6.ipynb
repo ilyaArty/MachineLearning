{
 "cells": [
  {
   "cell_type": "code",
   "execution_count": 1,
   "metadata": {
    "collapsed": false
   },
   "outputs": [
    {
     "name": "stdout",
     "output_type": "stream",
     "text": [
      "[ 1.  2.  3.  4.  5.  6.  5.] [ 1.  1.  1.  1.  1.  1.  1.]\n"
     ]
    }
   ],
   "source": [
    "import numpy as np\n",
    "X=np.array([1,2,3,4,5,6,5]);\n",
    "nums=np.zeros(X.size);\n",
    "counts=np.zeros(X.size);\n",
    "i=1;\n",
    "elemOld=X[0];\n",
    "nums[0]=elemOld;\n",
    "counts[0]=1;\n",
    "j=0;\n",
    "while i<X.shape[0]:\n",
    "    elem=X[i];\n",
    "    if elem==elemOld:\n",
    "        counts[j]=counts[j]+1;\n",
    "    else:\n",
    "        j=j+1;\n",
    "        nums[j]=elem;\n",
    "        counts[j]=counts[j]+1;\n",
    "    elemOld=elem;\n",
    "    i=i+1;\n",
    "nums=nums[:j+1]\n",
    "counts=counts[:j+1]\n",
    "print(nums,counts)"
   ]
  },
  {
   "cell_type": "code",
   "execution_count": null,
   "metadata": {
    "collapsed": true
   },
   "outputs": [],
   "source": []
  }
 ],
 "metadata": {
  "kernelspec": {
   "display_name": "Python 3",
   "language": "python",
   "name": "python3"
  },
  "language_info": {
   "codemirror_mode": {
    "name": "ipython",
    "version": 3
   },
   "file_extension": ".py",
   "mimetype": "text/x-python",
   "name": "python",
   "nbconvert_exporter": "python",
   "pygments_lexer": "ipython3",
   "version": "3.5.2"
  }
 },
 "nbformat": 4,
 "nbformat_minor": 1
}
