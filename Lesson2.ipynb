{
 "cells": [
  {
   "cell_type": "code",
   "execution_count": 1,
   "metadata": {
    "collapsed": false
   },
   "outputs": [
    {
     "name": "stdout",
     "output_type": "stream",
     "text": [
      "[[ 1  2  3  4  5]\n",
      " [ 6  7  8  9 10]\n",
      " [11 12 13 14 15]\n",
      " [16 17 18 19 20]]\n",
      "[ 6 18  4 12]\n"
     ]
    }
   ],
   "source": [
    "import numpy as np\n",
    "X=np.array(range(4*5)).reshape(4,5)+1;\n",
    "print(X)\n",
    "i_idx=np.array([1,3,0,2]);\n",
    "j_idx=np.array([0,2,3,1]);\n",
    "k=0;\n",
    "ans=np.zeros(4,dtype=int);\n",
    "m=i_idx.size\n",
    "while k<m:\n",
    "    ans[k]=X[i_idx[k],j_idx[k]];\n",
    "    k=k+1;\n",
    "print(ans)"
   ]
  },
  {
   "cell_type": "code",
   "execution_count": null,
   "metadata": {
    "collapsed": true
   },
   "outputs": [],
   "source": []
  }
 ],
 "metadata": {
  "kernelspec": {
   "display_name": "Python 3",
   "language": "python",
   "name": "python3"
  },
  "language_info": {
   "codemirror_mode": {
    "name": "ipython",
    "version": 3
   },
   "file_extension": ".py",
   "mimetype": "text/x-python",
   "name": "python",
   "nbconvert_exporter": "python",
   "pygments_lexer": "ipython3",
   "version": "3.5.2"
  }
 },
 "nbformat": 4,
 "nbformat_minor": 1
}
